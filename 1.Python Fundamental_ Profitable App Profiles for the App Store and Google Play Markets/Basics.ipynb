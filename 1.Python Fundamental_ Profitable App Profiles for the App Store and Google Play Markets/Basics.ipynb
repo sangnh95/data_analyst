{
 "cells": [
  {
   "cell_type": "markdown",
   "metadata": {},
   "source": [
    "# Profitable App profile for App Store market\n",
    "\n",
    "I work on this project with the guide from [dataquest](https://dataquest.io). I will try to find a mobile app profile that will be profitable on the App Store market. Imaging that I and my team are working as business analysts for a company that make iOS app, our job is to help developers make data-driven decisions on which kind of app they should build."
   ]
  },
  {
   "cell_type": "code",
   "execution_count": 1,
   "metadata": {
    "collapsed": false
   },
   "outputs": [],
   "source": [
    "from csv import reader\n",
    "\n",
    "opened_file = open('AppleStore.csv')\n",
    "read_file = reader(opened_file)\n",
    "ios_dataset = list(read_file)\n",
    "ios_dataset_header = ios_dataset[:1]\n",
    "ios_dataset = ios_dataset[1:]\n",
    "\n",
    "opened_file = open('googleplaystore.csv')\n",
    "read_file = reader(opened_file)\n",
    "android_dataset = list(read_file)\n",
    "android_dataset_header = android_dataset[0]\n",
    "android_dataset = android_dataset[1:]"
   ]
  },
  {
   "cell_type": "markdown",
   "metadata": {},
   "source": [
    "In the below code, i will define a function to print data sample for any dataset, also inform number of rows and column of entire dataset."
   ]
  },
  {
   "cell_type": "code",
   "execution_count": 2,
   "metadata": {
    "collapsed": false
   },
   "outputs": [
    {
     "name": "stdout",
     "output_type": "stream",
     "text": [
      "[['id', 'track_name', 'size_bytes', 'currency', 'price', 'rating_count_tot', 'rating_count_ver', 'user_rating', 'user_rating_ver', 'ver', 'cont_rating', 'prime_genre', 'sup_devices.num', 'ipadSc_urls.num', 'lang.num', 'vpp_lic']]\n",
      "\n",
      "\n",
      "['284882215', 'Facebook', '389879808', 'USD', '0.0', '2974676', '212', '3.5', '3.5', '95.0', '4+', 'Social Networking', '37', '1', '29', '1']\n",
      "\n",
      "\n",
      "['389801252', 'Instagram', '113954816', 'USD', '0.0', '2161558', '1289', '4.5', '4.0', '10.23', '12+', 'Photo & Video', '37', '0', '29', '1']\n",
      "\n",
      "\n",
      "['529479190', 'Clash of Clans', '116476928', 'USD', '0.0', '2130805', '579', '4.5', '4.5', '9.24.12', '9+', 'Games', '38', '5', '18', '1']\n",
      "\n",
      "\n",
      "['420009108', 'Temple Run', '65921024', 'USD', '0.0', '1724546', '3842', '4.5', '4.0', '1.6.2', '9+', 'Games', '40', '5', '1', '1']\n",
      "\n",
      "\n",
      "['284035177', 'Pandora - Music & Radio', '130242560', 'USD', '0.0', '1126879', '3594', '4.0', '4.5', '8.4.1', '12+', 'Music', '37', '4', '1', '1']\n",
      "\n",
      "\n",
      "Number of rows:  7197\n",
      "Number of columns:  16\n"
     ]
    }
   ],
   "source": [
    "def explore_data(dataset, start, end, rows_and_col=False):\n",
    "    for row in dataset[start:end]:\n",
    "        print(row)\n",
    "        print('\\n') #new empty line\n",
    "    if rows_and_col:\n",
    "        print('Number of rows: ',len(dataset))\n",
    "        print('Number of columns: ',len(dataset[0]))\n",
    "        \n",
    "#print first 5 row of ios_dataset\n",
    "print(ios_dataset_header)\n",
    "print('\\n')\n",
    "explore_data(ios_dataset, 0, 5, 1)"
   ]
  },
  {
   "cell_type": "code",
   "execution_count": 3,
   "metadata": {
    "collapsed": false
   },
   "outputs": [
    {
     "name": "stdout",
     "output_type": "stream",
     "text": [
      "['App', 'Category', 'Rating', 'Reviews', 'Size', 'Installs', 'Type', 'Price', 'Content Rating', 'Genres', 'Last Updated', 'Current Ver', 'Android Ver']\n",
      "\n",
      "\n",
      "['Photo Editor & Candy Camera & Grid & ScrapBook', 'ART_AND_DESIGN', '4.1', '159', '19M', '10,000+', 'Free', '0', 'Everyone', 'Art & Design', 'January 7, 2018', '1.0.0', '4.0.3 and up']\n",
      "\n",
      "\n",
      "['Coloring book moana', 'ART_AND_DESIGN', '3.9', '967', '14M', '500,000+', 'Free', '0', 'Everyone', 'Art & Design;Pretend Play', 'January 15, 2018', '2.0.0', '4.0.3 and up']\n",
      "\n",
      "\n",
      "['U Launcher Lite – FREE Live Cool Themes, Hide Apps', 'ART_AND_DESIGN', '4.7', '87510', '8.7M', '5,000,000+', 'Free', '0', 'Everyone', 'Art & Design', 'August 1, 2018', '1.2.4', '4.0.3 and up']\n",
      "\n",
      "\n",
      "['Sketch - Draw & Paint', 'ART_AND_DESIGN', '4.5', '215644', '25M', '50,000,000+', 'Free', '0', 'Teen', 'Art & Design', 'June 8, 2018', 'Varies with device', '4.2 and up']\n",
      "\n",
      "\n",
      "['Pixel Draw - Number Art Coloring Book', 'ART_AND_DESIGN', '4.3', '967', '2.8M', '100,000+', 'Free', '0', 'Everyone', 'Art & Design;Creativity', 'June 20, 2018', '1.1', '4.4 and up']\n",
      "\n",
      "\n",
      "Number of rows:  10841\n",
      "Number of columns:  13\n"
     ]
    }
   ],
   "source": [
    "#print first 5 row of android_dataset\n",
    "print(android_dataset_header)\n",
    "print('\\n')\n",
    "explore_data(android_dataset, 0, 5, 1)"
   ]
  },
  {
   "cell_type": "markdown",
   "metadata": {},
   "source": [
    "## Delete wrong data\n",
    "\n",
    "I found [a discussion](https://www.kaggle.com/lava18/google-play-store-apps/discussion/66015) of the android dataset about missing value in row 10472. I will print some rows around that row for checking."
   ]
  },
  {
   "cell_type": "code",
   "execution_count": 4,
   "metadata": {
    "collapsed": false
   },
   "outputs": [
    {
     "name": "stdout",
     "output_type": "stream",
     "text": [
      "['App', 'Category', 'Rating', 'Reviews', 'Size', 'Installs', 'Type', 'Price', 'Content Rating', 'Genres', 'Last Updated', 'Current Ver', 'Android Ver']\n",
      "\n",
      "\n",
      "['Xposed Wi-Fi-Pwd', 'PERSONALIZATION', '3.5', '1042', '404k', '100,000+', 'Free', '0', 'Everyone', 'Personalization', 'August 5, 2014', '3.0.0', '4.0.3 and up']\n",
      "\n",
      "\n",
      "['Life Made WI-Fi Touchscreen Photo Frame', '1.9', '19', '3.0M', '1,000+', 'Free', '0', 'Everyone', '', 'February 11, 2018', '1.0.19', '4.0 and up']\n",
      "\n",
      "\n",
      "['osmino Wi-Fi: free WiFi', 'TOOLS', '4.2', '134203', '4.1M', '10,000,000+', 'Free', '0', 'Everyone', 'Tools', 'August 7, 2018', '6.06.14', '4.4 and up']\n",
      "\n",
      "\n"
     ]
    }
   ],
   "source": [
    "print(android_dataset_header)\n",
    "print('\\n')\n",
    "explore_data(android_dataset,10471,10474)"
   ]
  },
  {
   "cell_type": "markdown",
   "metadata": {},
   "source": [
    "As you can see, row 10472 corresponds to the app Life Made WI-Fi Touchscreen Photo Frame having `'Category' = '1.9'`, and `'Rating' = '19'`. Category should not be number and rating cannot over 5. As a consequence, I'll delete this row."
   ]
  },
  {
   "cell_type": "code",
   "execution_count": 5,
   "metadata": {
    "collapsed": false
   },
   "outputs": [
    {
     "name": "stdout",
     "output_type": "stream",
     "text": [
      "10841\n",
      "10840\n"
     ]
    }
   ],
   "source": [
    "print(len(android_dataset))\n",
    "del android_dataset[10472]\n",
    "print(len(android_dataset))"
   ]
  },
  {
   "cell_type": "markdown",
   "metadata": {},
   "source": [
    "## Clean duplicated entries\n",
    "\n",
    "### Part one\n",
    "When reviewing the discussions of both dataset, I found there is at least [one discusion](https://www.kaggle.com/lava18/google-play-store-apps/discussion/67894) about duplicated entries in Android dataset. I checked for Instagram and saw 4 entries:"
   ]
  },
  {
   "cell_type": "markdown",
   "metadata": {
    "collapsed": false
   },
   "source": [
    "for row in android_dataset:\n",
    "    if 'Instagram' in row:\n",
    "        print(row)"
   ]
  },
  {
   "cell_type": "markdown",
   "metadata": {},
   "source": [
    "\n",
    "I found there are 1181 cases where apps apear more than once:"
   ]
  },
  {
   "cell_type": "code",
   "execution_count": 6,
   "metadata": {
    "collapsed": false
   },
   "outputs": [
    {
     "name": "stdout",
     "output_type": "stream",
     "text": [
      "Number of duplicate apps: 1181\n",
      "\n",
      "\n",
      "Examples of duplicate apps: ['Quick PDF Scanner + OCR FREE', 'Box', 'Google My Business', 'ZOOM Cloud Meetings', 'join.me - Simple Meetings', 'Box', 'Zenefits', 'Google Ads', 'Google My Business', 'Slack', 'FreshBooks Classic', 'Insightly CRM', 'QuickBooks Accounting: Invoicing & Expenses', 'HipChat - Chat Built for Teams', 'Xero Accounting Software']\n",
      "\n",
      "\n"
     ]
    }
   ],
   "source": [
    "def duplicate_check(dataset, key_column = 0):\n",
    "    duplicate_apps = []\n",
    "    unique_apps = []\n",
    "    for row in dataset:\n",
    "        if row[key_column] in unique_apps:\n",
    "            duplicate_apps.append(row[key_column])\n",
    "        else:\n",
    "            unique_apps.append(row[key_column])\n",
    "            \n",
    "    print('Number of duplicate apps:', len(duplicate_apps))\n",
    "    print('\\n')\n",
    "    print('Examples of duplicate apps:', duplicate_apps[:15])\n",
    "    return duplicate_apps,unique_apps\n",
    "\n",
    "android_dup_apps, android_uniq_apps = duplicate_check(android_dataset,0)\n",
    "print('\\n')\n",
    "#ios_dup_apps, ios_uniq_apps = duplicate_check(ios_dataset,0)"
   ]
  },
  {
   "cell_type": "markdown",
   "metadata": {},
   "source": [
    "When analyzing data, we must not count the same entry more than one. So we will need to remove those duplicated entries. We can remove them randomly, but with this dataset, i found a more effective way.\n",
    "\n",
    "Examing the duplicated entries of `Instagram` app that were showed above, I found out that the only difference between them is the `review` number. This difference means the data was colected at difference times. We can use it to build a criterion for keeping rows. I will keep the rows that have the highest review number because the higher the number, the newer the data.\n",
    "\n",
    "To do this, we have to:\n",
    "\n",
    "* Create a dictionary where each key is app's name and values is the highest review number of that app.\n",
    "* Use that dictionary to create new data set, which will have only one entry per app and review numbers is the highest\n",
    "\n",
    "\n",
    "### Part two:\n",
    "\n",
    "Let start with building the dictionary"
   ]
  },
  {
   "cell_type": "code",
   "execution_count": 7,
   "metadata": {
    "collapsed": true
   },
   "outputs": [],
   "source": [
    "reviews_max = {}\n",
    "for row in android_dataset:\n",
    "    name = row[0]\n",
    "    n_reviews = float(row[3])\n",
    "    if name in reviews_max and reviews_max[name] < n_reviews:\n",
    "        reviews_max[name] = n_reviews\n",
    "    elif name not in reviews_max:\n",
    "        reviews_max[name] = n_reviews"
   ]
  },
  {
   "cell_type": "markdown",
   "metadata": {},
   "source": [
    "In a previous code, we already found there are 1811 cases where an app occurs more than once, so the lenght of our dictionary should be equal to the difference between the lenght of our dataset and 1181."
   ]
  },
  {
   "cell_type": "code",
   "execution_count": 8,
   "metadata": {
    "collapsed": false
   },
   "outputs": [
    {
     "name": "stdout",
     "output_type": "stream",
     "text": [
      "Length of dictionary:  9659\n",
      "Expected length:  9659\n"
     ]
    }
   ],
   "source": [
    "print('Length of dictionary: ',len(reviews_max))\n",
    "print('Expected length: ',len(android_dataset) - 1181)"
   ]
  },
  {
   "cell_type": "markdown",
   "metadata": {},
   "source": [
    "Now let use the reviews_max to create new dataset that have only one entry per app (with the highest review number) in the code below:\n",
    "\n",
    "* First, let's create 2 new empty list `android_clean` and `already_add`\n",
    "* We will loop the `android` dataset, for every iteration:\n",
    "    * Determine app's `name` and `review number`\n",
    "    * Add the current row into `android_clean` and `name` into `already_add`, if:\n",
    "        * Number of review is the highest review. (also mean ignore row don't have highest review number)\n",
    "        * This app is not in alread_add. (avoid the case that apps have more than one row with highest review number, without this condition there will be apps with more than one entry(both entries also have highest review number)"
   ]
  },
  {
   "cell_type": "code",
   "execution_count": 9,
   "metadata": {
    "collapsed": true
   },
   "outputs": [],
   "source": [
    "android_clean = []\n",
    "already_added = []\n",
    "\n",
    "for row in android_dataset:\n",
    "    name = row[0]\n",
    "    n_reviews = float(row[3])\n",
    "    \n",
    "    if n_reviews == reviews_max[name] and name not in already_added:\n",
    "        android_clean.append(row)\n",
    "        already_added.append(name)"
   ]
  },
  {
   "cell_type": "markdown",
   "metadata": {},
   "source": [
    "Let take a quick review of our new android dataset"
   ]
  },
  {
   "cell_type": "code",
   "execution_count": 10,
   "metadata": {
    "collapsed": false
   },
   "outputs": [
    {
     "name": "stdout",
     "output_type": "stream",
     "text": [
      "['Photo Editor & Candy Camera & Grid & ScrapBook', 'ART_AND_DESIGN', '4.1', '159', '19M', '10,000+', 'Free', '0', 'Everyone', 'Art & Design', 'January 7, 2018', '1.0.0', '4.0.3 and up']\n",
      "\n",
      "\n",
      "['U Launcher Lite – FREE Live Cool Themes, Hide Apps', 'ART_AND_DESIGN', '4.7', '87510', '8.7M', '5,000,000+', 'Free', '0', 'Everyone', 'Art & Design', 'August 1, 2018', '1.2.4', '4.0.3 and up']\n",
      "\n",
      "\n",
      "['Sketch - Draw & Paint', 'ART_AND_DESIGN', '4.5', '215644', '25M', '50,000,000+', 'Free', '0', 'Teen', 'Art & Design', 'June 8, 2018', 'Varies with device', '4.2 and up']\n",
      "\n",
      "\n",
      "['Pixel Draw - Number Art Coloring Book', 'ART_AND_DESIGN', '4.3', '967', '2.8M', '100,000+', 'Free', '0', 'Everyone', 'Art & Design;Creativity', 'June 20, 2018', '1.1', '4.4 and up']\n",
      "\n",
      "\n",
      "Number of rows:  9659\n",
      "Number of columns:  13\n"
     ]
    }
   ],
   "source": [
    "explore_data(android_clean, 0 , 4, True)"
   ]
  },
  {
   "cell_type": "markdown",
   "metadata": {},
   "source": [
    "It has 9659 row as we calculated before.\n",
    "\n",
    "## Removing non-English apps\n",
    "\n",
    "### Part one\n",
    "\n",
    "While explore data, i found out some apps name is non-English. Here are some examples:"
   ]
  },
  {
   "cell_type": "code",
   "execution_count": 11,
   "metadata": {
    "collapsed": false
   },
   "outputs": [
    {
     "name": "stdout",
     "output_type": "stream",
     "text": [
      "爱奇艺PPS -《欢乐颂2》电视剧热播\n",
      "【脱出ゲーム】絶対に最後までプレイしないで 〜謎解き＆ブロックパズル〜\n",
      "中国語 AQリスニング\n",
      "لعبة تقدر تربح DZ\n"
     ]
    }
   ],
   "source": [
    "print(ios_dataset[813][1])\n",
    "print(ios_dataset[6731][1])\n",
    "\n",
    "print(android_clean[4412][0])\n",
    "print(android_clean[7940][0])"
   ]
  },
  {
   "cell_type": "markdown",
   "metadata": {},
   "source": [
    "Our target customers are English-speaking, so we will have to remove these non-English apps. The solution is removing apps that contain non-English character in their names.English text usually includes letters from the English alphabet, numbers composed of digits from 0 to 9, punctuation marks (., !, ?, ;, etc.), and other symbols (+, *, /, etc.).\n",
    "\n",
    "All these characters that are specific to English texts are encoded using the ASCII standard. Each ASCII character has a corresponding number between 0 and 127 associated with it, and we can take advantage of that to build a function that checks an app name and tells us whether it contains non-ASCII characters.\n",
    "\n",
    "I create a function to check whether a `string` contain non-English character or not."
   ]
  },
  {
   "cell_type": "code",
   "execution_count": 12,
   "metadata": {
    "collapsed": false
   },
   "outputs": [
    {
     "name": "stdout",
     "output_type": "stream",
     "text": [
      "True\n",
      "False\n"
     ]
    }
   ],
   "source": [
    "def is_English(text):\n",
    "    for char in text:\n",
    "        if ord(char) > 127:\n",
    "            return False\n",
    "    return True\n",
    "\n",
    "print(is_English('Instagram'))\n",
    "print(is_English('爱奇艺PPS -《欢乐颂2》电视剧热播'))"
   ]
  },
  {
   "cell_type": "markdown",
   "metadata": {},
   "source": [
    "This function work but there are some exeptions will lead to wrong result. For example: some app use `™` or `😜` in there names. We cannot remove these apps"
   ]
  },
  {
   "cell_type": "code",
   "execution_count": 13,
   "metadata": {
    "collapsed": false
   },
   "outputs": [
    {
     "name": "stdout",
     "output_type": "stream",
     "text": [
      "False\n",
      "False\n",
      "8482\n",
      "128540\n"
     ]
    }
   ],
   "source": [
    "print(is_English('Docs To Go™ Free Office Suite'))\n",
    "print(is_English('Instachat 😜'))\n",
    "\n",
    "print(ord('™'))\n",
    "print(ord('😜'))          "
   ]
  },
  {
   "cell_type": "markdown",
   "metadata": {},
   "source": [
    "### Part two\n",
    "\n",
    "To minimize the impact of data loss, we'll only remove an app if its name has more than 3 non-ASCII characters."
   ]
  },
  {
   "cell_type": "code",
   "execution_count": 14,
   "metadata": {
    "collapsed": false
   },
   "outputs": [
    {
     "name": "stdout",
     "output_type": "stream",
     "text": [
      "True\n",
      "True\n"
     ]
    }
   ],
   "source": [
    "def is_English(text):\n",
    "    non_ascii = 0;\n",
    "    for char in text:\n",
    "        if ord(char) > 127:\n",
    "            non_ascii += 1\n",
    "    \n",
    "    if non_ascii > 3:\n",
    "        return False\n",
    "    else:\n",
    "        return True\n",
    "    \n",
    "print(is_English('Docs To Go™ Free Office Suite'))\n",
    "print(is_English('Instachat 😜'))"
   ]
  },
  {
   "cell_type": "markdown",
   "metadata": {},
   "source": [
    "The function is still not perfect, and very few non-English apps might get past our filter, but this seems good enough at this point in our analysis — we shouldn't spend too much time on optimization at this point.\n",
    "\n",
    "Let start to filter out non-English app from both 2 data sets:"
   ]
  },
  {
   "cell_type": "code",
   "execution_count": 15,
   "metadata": {
    "collapsed": false
   },
   "outputs": [
    {
     "name": "stdout",
     "output_type": "stream",
     "text": [
      "['284882215', 'Facebook', '389879808', 'USD', '0.0', '2974676', '212', '3.5', '3.5', '95.0', '4+', 'Social Networking', '37', '1', '29', '1']\n",
      "\n",
      "\n",
      "['389801252', 'Instagram', '113954816', 'USD', '0.0', '2161558', '1289', '4.5', '4.0', '10.23', '12+', 'Photo & Video', '37', '0', '29', '1']\n",
      "\n",
      "\n",
      "['529479190', 'Clash of Clans', '116476928', 'USD', '0.0', '2130805', '579', '4.5', '4.5', '9.24.12', '9+', 'Games', '38', '5', '18', '1']\n",
      "\n",
      "\n",
      "['420009108', 'Temple Run', '65921024', 'USD', '0.0', '1724546', '3842', '4.5', '4.0', '1.6.2', '9+', 'Games', '40', '5', '1', '1']\n",
      "\n",
      "\n",
      "Number of rows:  6183\n",
      "Number of columns:  16\n",
      "\n",
      "\n",
      "['Photo Editor & Candy Camera & Grid & ScrapBook', 'ART_AND_DESIGN', '4.1', '159', '19M', '10,000+', 'Free', '0', 'Everyone', 'Art & Design', 'January 7, 2018', '1.0.0', '4.0.3 and up']\n",
      "\n",
      "\n",
      "['U Launcher Lite – FREE Live Cool Themes, Hide Apps', 'ART_AND_DESIGN', '4.7', '87510', '8.7M', '5,000,000+', 'Free', '0', 'Everyone', 'Art & Design', 'August 1, 2018', '1.2.4', '4.0.3 and up']\n",
      "\n",
      "\n",
      "['Sketch - Draw & Paint', 'ART_AND_DESIGN', '4.5', '215644', '25M', '50,000,000+', 'Free', '0', 'Teen', 'Art & Design', 'June 8, 2018', 'Varies with device', '4.2 and up']\n",
      "\n",
      "\n",
      "['Pixel Draw - Number Art Coloring Book', 'ART_AND_DESIGN', '4.3', '967', '2.8M', '100,000+', 'Free', '0', 'Everyone', 'Art & Design;Creativity', 'June 20, 2018', '1.1', '4.4 and up']\n",
      "\n",
      "\n",
      "Number of rows:  9614\n",
      "Number of columns:  13\n"
     ]
    }
   ],
   "source": [
    "ios_eng = []\n",
    "android_eng = []\n",
    "\n",
    "for row in ios_dataset:\n",
    "    if is_English(row[1]):\n",
    "        ios_eng.append(row)\n",
    "        \n",
    "for row in android_clean:\n",
    "    if is_English(row[0]):\n",
    "        android_eng.append(row)\n",
    "        \n",
    "explore_data(ios_eng, 0, 4, True)\n",
    "print('\\n')\n",
    "explore_data(android_eng, 0, 4, True)"
   ]
  },
  {
   "cell_type": "markdown",
   "metadata": {},
   "source": [
    "At this point, we have 6183 iOS apps and 9414 Android apps left.\n",
    "\n",
    "## Removing non-Free apps\n",
    "\n",
    "The main goal is to create a profitable free app, so we continue to remove non-Free apps from data sets."
   ]
  },
  {
   "cell_type": "code",
   "execution_count": 16,
   "metadata": {
    "collapsed": false
   },
   "outputs": [
    {
     "name": "stdout",
     "output_type": "stream",
     "text": [
      "3222\n",
      "8864\n"
     ]
    }
   ],
   "source": [
    "ios_final = []\n",
    "android_final = []\n",
    "\n",
    "for row in ios_eng:\n",
    "    price = row[4]\n",
    "    if price == '0.0':\n",
    "        ios_final.append(row)\n",
    "        \n",
    "for row in android_eng:\n",
    "    price = row[7]\n",
    "    if price == '0':\n",
    "        android_final.append(row)\n",
    "        \n",
    "print(len(ios_final))\n",
    "print(len(android_final))"
   ]
  },
  {
   "cell_type": "markdown",
   "metadata": {},
   "source": [
    "We have left 3222 iOS apps and 8864 Android apps. It is enough for analyzing\n",
    "\n",
    "## Most Common Apps by Genre\n",
    "\n",
    "### Part One\n",
    "\n",
    "As we mentioned in the introduction, our aim is to determine the kinds of apps that are likely to attract more users because our revenue is highly influenced by the number of people using our apps.\n",
    "\n",
    "To minimize risks and overhead, our validation strategy for an app idea is comprised of three steps:\n",
    "\n",
    "Build a minimal Android version of the app, and add it to Google Play.\n",
    "If the app has a good response from users, we then develop it further.\n",
    "If the app is profitable after six months, we also build an iOS version of the app and add it to the App Store.\n",
    "Because our end goal is to add the app on both the App Store and Google Play, we need to find app profiles that are successful on both markets. For instance, a profile that might work well for both markets might be a productivity app that makes use of gamification.\n",
    "\n",
    "Let's begin the analysis by getting a sense of the most common genres for each market. For this, we'll build a frequency table for the prime_genre column of the App Store data set, and the Genres and Category columns of the Google Play data set.\n",
    "\n",
    "### Part two\n",
    "\n",
    "We'll build two functions to help analyzing the data:\n",
    "* One is to calculate frequence for each genre\n",
    "* Another is to display the frequences in descending order"
   ]
  },
  {
   "cell_type": "code",
   "execution_count": 17,
   "metadata": {
    "collapsed": false
   },
   "outputs": [],
   "source": [
    "def freq_cal(data_set, index):\n",
    "    total_apps = len(data_set)\n",
    "    freq_table = {}\n",
    "    for row in data_set:\n",
    "        if row[index] in freq_table:\n",
    "            freq_table[row[index]] += 1\n",
    "        else:\n",
    "            freq_table[row[index]] = 1\n",
    "\n",
    "    for key in freq_table:\n",
    "        freq_table[key] = freq_table[key] / total_apps * 100\n",
    "        \n",
    "    return freq_table\n",
    "\n",
    "def display_percentage(data_set, index):\n",
    "    table = freq_cal(data_set,index)\n",
    "    tupled_list = []\n",
    "    \n",
    "    for key in table:\n",
    "        tupled = (key, table[key])\n",
    "        tupled_list.append(tupled)\n",
    "        \n",
    "    sorted_list = sorted(tupled_list, key = lambda app: app[1], reverse = True)\n",
    "    for row in sorted_list:\n",
    "        print (row[0], ':', row[1])"
   ]
  },
  {
   "cell_type": "markdown",
   "metadata": {},
   "source": [
    "### Part three\n",
    "\n",
    "We start by examining the frequency table for the `prime_genre` column of the App Store data set."
   ]
  },
  {
   "cell_type": "code",
   "execution_count": 18,
   "metadata": {
    "collapsed": false
   },
   "outputs": [
    {
     "name": "stdout",
     "output_type": "stream",
     "text": [
      "Games : 58.16263190564867\n",
      "Entertainment : 7.883302296710118\n",
      "Photo & Video : 4.9658597144630665\n",
      "Education : 3.662321539416512\n",
      "Social Networking : 3.2898820608317814\n",
      "Shopping : 2.60707635009311\n",
      "Utilities : 2.5139664804469275\n",
      "Sports : 2.1415270018621975\n",
      "Music : 2.0484171322160147\n",
      "Health & Fitness : 2.0173805090006205\n",
      "Productivity : 1.7380509000620732\n",
      "Lifestyle : 1.5828677839851024\n",
      "News : 1.3345747982619491\n",
      "Travel : 1.2414649286157666\n",
      "Finance : 1.1173184357541899\n",
      "Weather : 0.8690254500310366\n",
      "Food & Drink : 0.8069522036002483\n",
      "Reference : 0.5586592178770949\n",
      "Business : 0.5276225946617008\n",
      "Book : 0.4345127250155183\n",
      "Navigation : 0.186219739292365\n",
      "Medical : 0.186219739292365\n",
      "Catalogs : 0.12414649286157665\n"
     ]
    }
   ],
   "source": [
    "display_percentage(ios_final, -5)"
   ]
  },
  {
   "cell_type": "markdown",
   "metadata": {},
   "source": [
    "We can see that among the free English apps, more than a half (58.16%) are games. Entertainment apps are close to 8%, followed by photo and video apps, which are close to 5%. Only 3.66% of the apps are designed for education, followed by social networking apps which amount for 3.29% of the apps in our data set.\n",
    "\n",
    "The general impression is that App Store (at least the part containing free English apps) is dominated by apps that are designed for fun (games, entertainment, photo and video, social networking, sports, music, etc.), while apps with practical purposes (education, shopping, utilities, productivity, lifestyle, etc.) are more rare. However, the fact that fun apps are the most numerous doesn't also imply that they also have the greatest number of users — the demand might not be the same as the offer.\n",
    "\n",
    "Let's continue by examining the `Genres` and `Category` columns of the Google Play data set (two columns which seem to be related)."
   ]
  },
  {
   "cell_type": "code",
   "execution_count": 19,
   "metadata": {
    "collapsed": false,
    "scrolled": true
   },
   "outputs": [
    {
     "name": "stdout",
     "output_type": "stream",
     "text": [
      "FAMILY : 18.907942238267147\n",
      "GAME : 9.724729241877256\n",
      "TOOLS : 8.461191335740072\n",
      "BUSINESS : 4.591606498194946\n",
      "LIFESTYLE : 3.9034296028880866\n",
      "PRODUCTIVITY : 3.892148014440433\n",
      "FINANCE : 3.7003610108303246\n",
      "MEDICAL : 3.531137184115524\n",
      "SPORTS : 3.395758122743682\n",
      "PERSONALIZATION : 3.3167870036101084\n",
      "COMMUNICATION : 3.2378158844765346\n",
      "HEALTH_AND_FITNESS : 3.0798736462093865\n",
      "PHOTOGRAPHY : 2.944494584837545\n",
      "NEWS_AND_MAGAZINES : 2.7978339350180503\n",
      "SOCIAL : 2.6624548736462095\n",
      "TRAVEL_AND_LOCAL : 2.33528880866426\n",
      "SHOPPING : 2.2450361010830324\n",
      "BOOKS_AND_REFERENCE : 2.1435018050541514\n",
      "DATING : 1.861462093862816\n",
      "VIDEO_PLAYERS : 1.7937725631768955\n",
      "MAPS_AND_NAVIGATION : 1.3989169675090252\n",
      "FOOD_AND_DRINK : 1.2409747292418771\n",
      "EDUCATION : 1.1620036101083033\n",
      "ENTERTAINMENT : 0.9589350180505415\n",
      "LIBRARIES_AND_DEMO : 0.9363718411552346\n",
      "AUTO_AND_VEHICLES : 0.9250902527075812\n",
      "HOUSE_AND_HOME : 0.8235559566787004\n",
      "WEATHER : 0.8009927797833934\n",
      "EVENTS : 0.7107400722021661\n",
      "PARENTING : 0.6543321299638989\n",
      "ART_AND_DESIGN : 0.6430505415162455\n",
      "COMICS : 0.6204873646209386\n",
      "BEAUTY : 0.5979241877256317\n"
     ]
    }
   ],
   "source": [
    "display_percentage(android_final, 1) #Category"
   ]
  },
  {
   "cell_type": "markdown",
   "metadata": {},
   "source": [
    "The landscape seems significantly different on Google Play: there are not that many apps designed for fun, and it seems that a good number of apps are designed for practical purposes (family, tools, business, lifestyle, productivity, etc.). However, if we investigate this further, we can see that the family category (which accounts for almost 19% of the apps) means mostly games for kids.\n",
    "\n",
    "Even so, practical apps seem to have a better representation on Google Play compared to App Store. This picture is also confirmed by the frequency table we see for the `Genres` column:"
   ]
  },
  {
   "cell_type": "code",
   "execution_count": 20,
   "metadata": {
    "collapsed": false,
    "scrolled": true
   },
   "outputs": [
    {
     "name": "stdout",
     "output_type": "stream",
     "text": [
      "Tools : 8.449909747292418\n",
      "Entertainment : 6.069494584837545\n",
      "Education : 5.347472924187725\n",
      "Business : 4.591606498194946\n",
      "Productivity : 3.892148014440433\n",
      "Lifestyle : 3.892148014440433\n",
      "Finance : 3.7003610108303246\n",
      "Medical : 3.531137184115524\n",
      "Sports : 3.463447653429603\n",
      "Personalization : 3.3167870036101084\n",
      "Communication : 3.2378158844765346\n",
      "Action : 3.1024368231046933\n",
      "Health & Fitness : 3.0798736462093865\n",
      "Photography : 2.944494584837545\n",
      "News & Magazines : 2.7978339350180503\n",
      "Social : 2.6624548736462095\n",
      "Travel & Local : 2.3240072202166067\n",
      "Shopping : 2.2450361010830324\n",
      "Books & Reference : 2.1435018050541514\n",
      "Simulation : 2.0419675090252705\n",
      "Dating : 1.861462093862816\n",
      "Arcade : 1.8501805054151623\n",
      "Video Players & Editors : 1.7712093862815883\n",
      "Casual : 1.7599277978339352\n",
      "Maps & Navigation : 1.3989169675090252\n",
      "Food & Drink : 1.2409747292418771\n",
      "Puzzle : 1.128158844765343\n",
      "Racing : 0.9927797833935018\n",
      "Role Playing : 0.9363718411552346\n",
      "Libraries & Demo : 0.9363718411552346\n",
      "Auto & Vehicles : 0.9250902527075812\n",
      "Strategy : 0.9138086642599278\n",
      "House & Home : 0.8235559566787004\n",
      "Weather : 0.8009927797833934\n",
      "Events : 0.7107400722021661\n",
      "Adventure : 0.6768953068592057\n",
      "Comics : 0.6092057761732852\n",
      "Art & Design : 0.5979241877256317\n",
      "Beauty : 0.5979241877256317\n",
      "Parenting : 0.4963898916967509\n",
      "Card : 0.45126353790613716\n",
      "Casino : 0.42870036101083037\n",
      "Trivia : 0.41741877256317694\n",
      "Educational;Education : 0.39485559566787\n",
      "Board : 0.3835740072202166\n",
      "Educational : 0.3722924187725632\n",
      "Education;Education : 0.33844765342960287\n",
      "Word : 0.2594765342960289\n",
      "Casual;Pretend Play : 0.236913357400722\n",
      "Music : 0.2030685920577617\n",
      "Racing;Action & Adventure : 0.16922382671480143\n",
      "Entertainment;Music & Video : 0.16922382671480143\n",
      "Puzzle;Brain Games : 0.16922382671480143\n",
      "Casual;Brain Games : 0.13537906137184114\n",
      "Casual;Action & Adventure : 0.13537906137184114\n",
      "Arcade;Action & Adventure : 0.12409747292418773\n",
      "Action;Action & Adventure : 0.10153429602888085\n",
      "Educational;Pretend Play : 0.09025270758122744\n",
      "Simulation;Action & Adventure : 0.078971119133574\n",
      "Board;Brain Games : 0.078971119133574\n",
      "Entertainment;Brain Games : 0.078971119133574\n",
      "Parenting;Education : 0.078971119133574\n",
      "Parenting;Music & Video : 0.06768953068592057\n",
      "Educational;Brain Games : 0.06768953068592057\n",
      "Casual;Creativity : 0.06768953068592057\n",
      "Art & Design;Creativity : 0.06768953068592057\n",
      "Education;Pretend Play : 0.056407942238267145\n",
      "Role Playing;Pretend Play : 0.04512635379061372\n",
      "Education;Creativity : 0.04512635379061372\n",
      "Educational;Action & Adventure : 0.033844765342960284\n",
      "Education;Brain Games : 0.033844765342960284\n",
      "Adventure;Action & Adventure : 0.033844765342960284\n",
      "Educational;Creativity : 0.033844765342960284\n",
      "Puzzle;Action & Adventure : 0.033844765342960284\n",
      "Entertainment;Creativity : 0.033844765342960284\n",
      "Role Playing;Action & Adventure : 0.033844765342960284\n",
      "Entertainment;Action & Adventure : 0.033844765342960284\n",
      "Education;Action & Adventure : 0.033844765342960284\n",
      "Education;Music & Video : 0.033844765342960284\n",
      "Video Players & Editors;Music & Video : 0.02256317689530686\n",
      "Entertainment;Pretend Play : 0.02256317689530686\n",
      "Sports;Action & Adventure : 0.02256317689530686\n",
      "Casual;Education : 0.02256317689530686\n",
      "Board;Action & Adventure : 0.02256317689530686\n",
      "Simulation;Pretend Play : 0.02256317689530686\n",
      "Puzzle;Creativity : 0.02256317689530686\n",
      "Music;Music & Video : 0.02256317689530686\n",
      "Music & Audio;Music & Video : 0.01128158844765343\n",
      "Entertainment;Education : 0.01128158844765343\n",
      "Casual;Music & Video : 0.01128158844765343\n",
      "Lifestyle;Education : 0.01128158844765343\n",
      "Lifestyle;Pretend Play : 0.01128158844765343\n",
      "Art & Design;Pretend Play : 0.01128158844765343\n",
      "Health & Fitness;Action & Adventure : 0.01128158844765343\n",
      "Puzzle;Education : 0.01128158844765343\n",
      "Strategy;Action & Adventure : 0.01128158844765343\n",
      "Communication;Creativity : 0.01128158844765343\n",
      "Strategy;Creativity : 0.01128158844765343\n",
      "Health & Fitness;Education : 0.01128158844765343\n",
      "Card;Action & Adventure : 0.01128158844765343\n",
      "Tools;Education : 0.01128158844765343\n",
      "Parenting;Brain Games : 0.01128158844765343\n",
      "Comics;Creativity : 0.01128158844765343\n",
      "Video Players & Editors;Creativity : 0.01128158844765343\n",
      "Books & Reference;Education : 0.01128158844765343\n",
      "Racing;Pretend Play : 0.01128158844765343\n",
      "Travel & Local;Action & Adventure : 0.01128158844765343\n",
      "Trivia;Education : 0.01128158844765343\n",
      "Adventure;Education : 0.01128158844765343\n",
      "Arcade;Pretend Play : 0.01128158844765343\n",
      "Role Playing;Brain Games : 0.01128158844765343\n",
      "Strategy;Education : 0.01128158844765343\n",
      "Art & Design;Action & Adventure : 0.01128158844765343\n",
      "Simulation;Education : 0.01128158844765343\n"
     ]
    }
   ],
   "source": [
    "display_percentage(android_final, -4) #Genres"
   ]
  },
  {
   "cell_type": "markdown",
   "metadata": {},
   "source": [
    "The difference between the `Genres` and the `Category` columns is not crystal clear, but one thing we can notice is that the Genres column is much more granular (it has more categories). We're only looking for the bigger picture at the moment, so we'll only work with the `Category` column moving forward.\n",
    "\n",
    "Up to this point, we found that the App Store is dominated by apps designed for fun, while Google Play shows a more balanced landscape of both practical and for-fun apps. Now we'd like to get an idea about the kind of apps that have most users."
   ]
  },
  {
   "cell_type": "markdown",
   "metadata": {},
   "source": [
    "## Most Popular apps on App Store\n",
    "\n",
    "One way to find out what genres are the most popular (have the most users) is to calculate the average number of installs for each app genre. For the Google Play data set, we can find this information in the `Installs` column, but for the App Store data set this information is missing. As a workaround, we'll take the total number of user ratings as a proxy, which we can find in the `rating_count_tot` app.\n",
    "\n",
    "Below, we calculate the average number of user ratings per app genre on the App Store:"
   ]
  },
  {
   "cell_type": "code",
   "execution_count": 21,
   "metadata": {
    "collapsed": false
   },
   "outputs": [
    {
     "name": "stdout",
     "output_type": "stream",
     "text": [
      "Navigation : 86090.33333333333\n",
      "Photo & Video : 28441.54375\n",
      "News : 21248.023255813954\n",
      "Utilities : 18684.456790123455\n",
      "Health & Fitness : 23298.015384615384\n",
      "Weather : 52279.892857142855\n",
      "Business : 7491.117647058823\n",
      "Sports : 23008.898550724636\n",
      "Social Networking : 71548.34905660378\n",
      "Medical : 612.0\n",
      "Productivity : 21028.410714285714\n",
      "Music : 57326.530303030304\n",
      "Entertainment : 14029.830708661417\n",
      "Shopping : 26919.690476190477\n",
      "Food & Drink : 33333.92307692308\n",
      "Travel : 28243.8\n",
      "Book : 39758.5\n",
      "Catalogs : 4004.0\n",
      "Games : 22788.6696905016\n",
      "Lifestyle : 16485.764705882353\n",
      "Finance : 31467.944444444445\n",
      "Education : 7003.983050847458\n",
      "Reference : 74942.11111111111\n"
     ]
    }
   ],
   "source": [
    "ios_genres = freq_cal(ios_final, -5)\n",
    "\n",
    "for genre in ios_genres:\n",
    "    total = 0\n",
    "    len_genre = 0\n",
    "    for row in ios_final:\n",
    "        if row[-5] == genre:\n",
    "            total += float(row[5])\n",
    "            len_genre += 1\n",
    "    average = total / len_genre\n",
    "    print(genre,':',average)           \n",
    "    "
   ]
  },
  {
   "cell_type": "markdown",
   "metadata": {},
   "source": [
    "On average, navigation apps have the highest number of user reviews, but this figure is heavily influenced by Waze and Google Maps, which have close to half a million user reviews together:"
   ]
  },
  {
   "cell_type": "code",
   "execution_count": 22,
   "metadata": {
    "collapsed": false
   },
   "outputs": [
    {
     "name": "stdout",
     "output_type": "stream",
     "text": [
      "Waze - GPS Navigation, Maps & Real-time Traffic : 345046\n",
      "Google Maps - Navigation & Transit : 154911\n",
      "Geocaching® : 12811\n",
      "CoPilot GPS – Car Navigation & Offline Maps : 3582\n",
      "ImmobilienScout24: Real Estate Search in Germany : 187\n",
      "Railway Route Search : 5\n"
     ]
    }
   ],
   "source": [
    "for app in ios_final:\n",
    "    if app[-5] == 'Navigation':\n",
    "        print(app[1],':',app[5])"
   ]
  },
  {
   "cell_type": "markdown",
   "metadata": {},
   "source": [
    "The same pattern applies to Social Networking, where the most popular are from giant like Facebook, Skype, Pinterest, etc. It also the same with music app, few biggest apps got almost the attention. These genres are influenced by big players.\n",
    "\n",
    "Our aim is to find popular genres, but navigation, social networking or music apps might seem more popular than they really are. The average number of ratings seem to be skewed by very few apps which have hundreds of thousands of user ratings, while the other apps may struggle to get past the 10,000 threshold. We could get a better picture by removing these extremely popular apps for each genre and then rework the averages, but we'll leave this level of detail for later.\n",
    "\n",
    "After dig deep into each genre, We found out that Reference, Productivity and especially Games are very promising:\n",
    "* On Reference genre has high average user ratings, but mostly because Bible and Dictionary app skew up the number, other apps also have high average user rating, but however the dominant apps are book-related apps, difficult to come up with new idea.\n",
    "* In Productivity genre, there is variety kind of apps, and seem pretty balance between apps.\n",
    "* Games genre has a lot of really popular apps, but it seem like too saturated. Hard to stand out among huge number of apps.\n",
    "\n",
    "Sum up, from these statistic, It is very potential to make an app that relate to  these features: fun, helpfull, practical.\n",
    "For example, we could make a schedule reminder apps that fun to use (kind of funny animated when complete an task, or mini-games to play), maybe a studying app that designed like a game (have level, point when complete a mission...)"
   ]
  },
  {
   "cell_type": "code",
   "execution_count": 34,
   "metadata": {
    "collapsed": false,
    "scrolled": true
   },
   "outputs": [
    {
     "name": "stdout",
     "output_type": "stream",
     "text": [
      "Evernote - stay organized : 161065\n",
      "Gmail - email by Google: secure, fast & organized : 135962\n",
      "iTranslate - Language Translator & Dictionary : 123215\n",
      "Yahoo Mail - Keeps You Organized! : 113709\n",
      "Google Docs : 64259\n",
      "Google Drive - free online storage : 59255\n",
      "Dropbox : 49578\n",
      "Microsoft Word : 47999\n",
      "Microsoft OneNote : 39638\n",
      "Microsoft Outlook - email and calendar : 32807\n",
      "Hotspot Shield Free VPN Proxy & Wi-Fi Privacy : 32499\n",
      "Documents 6 - File manager, PDF reader and browser : 29110\n",
      "Google Sheets : 24602\n",
      "Microsoft Excel : 24430\n",
      "Inbox by Gmail : 21561\n",
      "T-Mobile : 19977\n",
      "Paper by FiftyThree - Sketch, Diagram, Take Notes : 18219\n",
      "MyScript Calculator - Handwriting calculator : 16555\n",
      "VPN Proxy Master - Unlimited WiFi security VPN : 13674\n",
      "Microsoft OneDrive – File & photo cloud storage : 12797\n",
      "Ever - Capture Your Memories : 12755\n",
      "Speak & Translate － Voice and Text Translator : 12062\n",
      "Tayasui Sketches : 11505\n",
      "Drawing Desk - Draw, Paint, Doodle & Sketch board : 11040\n",
      "Microsoft PowerPoint : 10939\n",
      "Email - Fast & Secure mail for Gmail iCloud Yahoo : 10778\n",
      "Google Slides : 9920\n",
      "HP All-in-One Printer Remote : 9819\n",
      "Google Calendar – Make the most of every day : 7656\n",
      "Verizon Cloud : 6482\n",
      "Free VPN HexaTech - Unlimited VPN Proxy for iPhone : 5934\n",
      "Productive habits & daily goals tracker : 4736\n",
      "Adobe Spark Video, Animated Videos in minutes : 4302\n",
      "Adobe Illustrator Draw : 3215\n",
      "Concepts - Sketch, Design, Illustrate : 3101\n",
      "Trello : 2793\n",
      "Adobe Spark Page — Create Stunning Web Pages : 2528\n",
      "Workflow: Powerful Automation Made Simple : 1498\n",
      "ATracker - Daily Task and Time Tracking : 1114\n",
      "Bear : 891\n",
      "Family Organizer - Calendar Planner : 828\n",
      "Fingerprint Login: PassKey Password & Apps Lock : 718\n",
      "360云盘 : 437\n",
      "Mail Master by NetEase : 361\n",
      "Content Transf : 299\n",
      "HOUND Voice Search & Assistant : 297\n",
      "AutoScout24 - mobile used & new car market : 220\n",
      "WEB.DE Mail : 168\n",
      "GMX Mail : 102\n",
      "MetaMoJi Note Lite : 93\n",
      "Infinite Painter : 65\n",
      "Jottit : 14\n",
      "Free QR Code Reader simply to scan a QR Code : 10\n",
      "Official QR Code reader \"Q\" - QR app. - : 0\n",
      "Digiposte + : 0\n",
      "BarcodeReader「ICONIT」 : 0\n"
     ]
    }
   ],
   "source": [
    "for app in ios_final:\n",
    "    if app[-5] == 'Productivity':\n",
    "        print(app[1],':',app[5])"
   ]
  },
  {
   "cell_type": "markdown",
   "metadata": {},
   "source": [
    "Beside that, we need to avoid some genres like:\n",
    "* Weather: could be costly to integrate with a highly accurate prediction -api\n",
    "* Music: very troublesome when involve with copyright law if we don't have huge financial resoures\n",
    "* Finance: we need to hire an expert in this field.\n",
    "* Food & Drink: mostly the apps are from popular food chains\n",
    "\n",
    "Now let's analyze the Google Play market a bit.\n",
    "\n",
    "## Most Popular Apps by Genre on Google Play\n",
    "\n",
    "For the Google Play market, we actually have data about the number of installs, so we should be able to get a clearer picture about genre popularity. However, the install numbers don't seem precise enough — we can see that most values are open-ended (100+, 1,000+, 5,000+, etc.):"
   ]
  },
  {
   "cell_type": "code",
   "execution_count": 24,
   "metadata": {
    "collapsed": false
   },
   "outputs": [
    {
     "name": "stdout",
     "output_type": "stream",
     "text": [
      "1,000,000+ : 15.726534296028879\n",
      "100,000+ : 11.552346570397113\n",
      "10,000,000+ : 10.548285198555957\n",
      "10,000+ : 10.198555956678701\n",
      "1,000+ : 8.393501805054152\n",
      "100+ : 6.915613718411552\n",
      "5,000,000+ : 6.825361010830325\n",
      "500,000+ : 5.561823104693141\n",
      "50,000+ : 4.7721119133574\n",
      "5,000+ : 4.512635379061372\n",
      "10+ : 3.5424187725631766\n",
      "500+ : 3.2490974729241873\n",
      "50,000,000+ : 2.3014440433213\n",
      "100,000,000+ : 2.1322202166064983\n",
      "50+ : 1.917870036101083\n",
      "5+ : 0.78971119133574\n",
      "1+ : 0.5076714801444043\n",
      "500,000,000+ : 0.2707581227436823\n",
      "1,000,000,000+ : 0.22563176895306858\n",
      "0+ : 0.04512635379061372\n",
      "0 : 0.01128158844765343\n"
     ]
    }
   ],
   "source": [
    "display_percentage(android_final, 5) #Install"
   ]
  },
  {
   "cell_type": "markdown",
   "metadata": {},
   "source": [
    "One problem with this data is that is not precise. For instance, we don't know whether an app with 100,000+ installs has 100,000 installs, 200,000, or 350,000. However, we don't need very precise data for our purposes — we only want to get an idea which app genres attract the most users, and we don't need perfect precision with respect to the number of users.\n",
    "\n",
    "We're going to leave the numbers as they are, which means that we'll consider that an app with 100,000+ installs has 100,000 installs, and an app with 1,000,000+ installs has 1,000,000 installs, and so on.\n",
    "\n",
    "To perform computations, however, we'll need to convert each install number to float — this means that we need to remove the commas and the plus characters, otherwise the conversion will fail and raise an error. We'll do this directly in the loop below, where we also compute the average number of installs for each genre (category)."
   ]
  },
  {
   "cell_type": "code",
   "execution_count": 27,
   "metadata": {
    "collapsed": false
   },
   "outputs": [
    {
     "name": "stdout",
     "output_type": "stream",
     "text": [
      "ART_AND_DESIGN : 1986335.0877192982\n",
      "COMMUNICATION : 38456119.167247385\n",
      "LIBRARIES_AND_DEMO : 638503.734939759\n",
      "PRODUCTIVITY : 16787331.344927534\n",
      "EVENTS : 253542.22222222222\n",
      "TRAVEL_AND_LOCAL : 13984077.710144928\n",
      "AUTO_AND_VEHICLES : 647317.8170731707\n",
      "MAPS_AND_NAVIGATION : 4056941.7741935486\n",
      "WEATHER : 5074486.197183099\n",
      "PHOTOGRAPHY : 17840110.40229885\n",
      "FINANCE : 1387692.475609756\n",
      "SOCIAL : 23253652.127118643\n",
      "HOUSE_AND_HOME : 1331540.5616438356\n",
      "BOOKS_AND_REFERENCE : 8767811.894736841\n",
      "SHOPPING : 7036877.311557789\n",
      "EDUCATION : 1833495.145631068\n",
      "DATING : 854028.8303030303\n",
      "BUSINESS : 1712290.1474201474\n",
      "LIFESTYLE : 1437816.2687861272\n",
      "VIDEO_PLAYERS : 24727872.452830188\n",
      "NEWS_AND_MAGAZINES : 9549178.467741935\n",
      "PERSONALIZATION : 5201482.6122448975\n",
      "COMICS : 817657.2727272727\n",
      "BEAUTY : 513151.88679245283\n",
      "MEDICAL : 120550.61980830671\n",
      "TOOLS : 10801391.298666667\n",
      "FOOD_AND_DRINK : 1924897.7363636363\n",
      "SPORTS : 3638640.1428571427\n",
      "GAME : 15588015.603248259\n",
      "PARENTING : 542603.6206896552\n",
      "HEALTH_AND_FITNESS : 4188821.9853479853\n",
      "ENTERTAINMENT : 11640705.88235294\n",
      "FAMILY : 3695641.8198090694\n"
     ]
    }
   ],
   "source": [
    "android_categories = freq_cal(android_final,1)\n",
    "\n",
    "for category in android_categories:\n",
    "    total = 0\n",
    "    len_category = 0\n",
    "    for app in android_final:\n",
    "        if app[1] == category:\n",
    "            install = app[5].replace('+','')\n",
    "            install = float(install.replace(',',''))\n",
    "            total += install\n",
    "            len_category += 1\n",
    "    avg_intall = total / len_category\n",
    "    print(category,':', avg_intall)"
   ]
  },
  {
   "cell_type": "markdown",
   "metadata": {
    "collapsed": true
   },
   "source": [
    "On average, communication apps have the most installs: 38,456,119. This number is heavily skewed up by a few apps that have over one billion installs (WhatsApp, Facebook Messenger, Skype, Google Chrome, Gmail, and Hangouts), and a few others with over 100 and 500 million installs:"
   ]
  },
  {
   "cell_type": "code",
   "execution_count": 29,
   "metadata": {
    "collapsed": false
   },
   "outputs": [
    {
     "name": "stdout",
     "output_type": "stream",
     "text": [
      "WhatsApp Messenger : 1,000,000,000+\n",
      "imo beta free calls and text : 100,000,000+\n",
      "Android Messages : 100,000,000+\n",
      "Google Duo - High Quality Video Calls : 500,000,000+\n",
      "Messenger – Text and Video Chat for Free : 1,000,000,000+\n",
      "imo free video calls and chat : 500,000,000+\n",
      "Skype - free IM & video calls : 1,000,000,000+\n",
      "Who : 100,000,000+\n",
      "GO SMS Pro - Messenger, Free Themes, Emoji : 100,000,000+\n",
      "LINE: Free Calls & Messages : 500,000,000+\n",
      "Google Chrome: Fast & Secure : 1,000,000,000+\n",
      "Firefox Browser fast & private : 100,000,000+\n",
      "UC Browser - Fast Download Private & Secure : 500,000,000+\n",
      "Gmail : 1,000,000,000+\n",
      "Hangouts : 1,000,000,000+\n",
      "Messenger Lite: Free Calls & Messages : 100,000,000+\n",
      "Kik : 100,000,000+\n",
      "KakaoTalk: Free Calls & Text : 100,000,000+\n",
      "Opera Mini - fast web browser : 100,000,000+\n",
      "Opera Browser: Fast and Secure : 100,000,000+\n",
      "Telegram : 100,000,000+\n",
      "Truecaller: Caller ID, SMS spam blocking & Dialer : 100,000,000+\n",
      "UC Browser Mini -Tiny Fast Private & Secure : 100,000,000+\n",
      "Viber Messenger : 500,000,000+\n",
      "WeChat : 100,000,000+\n",
      "Yahoo Mail – Stay Organized : 100,000,000+\n",
      "BBM - Free Calls & Messages : 100,000,000+\n"
     ]
    }
   ],
   "source": [
    "for app in android_final:\n",
    "    if app[1] == 'COMMUNICATION' and (app[5] == '1,000,000,000+' \n",
    "                                      or app[5] == '500,000,000+' \n",
    "                                      or app[5] == '100,000,000+'):\n",
    "        print(app[0],':',app[5])\n",
    "        "
   ]
  },
  {
   "cell_type": "markdown",
   "metadata": {},
   "source": [
    "If we removed all the communication apps that have over 100 million installs, the average would be reduced roughly ten times:"
   ]
  },
  {
   "cell_type": "code",
   "execution_count": 31,
   "metadata": {
    "collapsed": false
   },
   "outputs": [
    {
     "data": {
      "text/plain": [
       "3603485.3884615386"
      ]
     },
     "execution_count": 31,
     "metadata": {},
     "output_type": "execute_result"
    }
   ],
   "source": [
    "comm_cate_under_100m = []\n",
    "for app in android_final:\n",
    "    install = app[5].replace('+','')\n",
    "    install = float(install.replace(',',''))\n",
    "    if app[1] == 'COMMUNICATION' and install < 100000000:\n",
    "        comm_cate_under_100m.append(install)\n",
    "\n",
    "sum(comm_cate_under_100m) / len(comm_cate_under_100m)"
   ]
  },
  {
   "cell_type": "markdown",
   "metadata": {},
   "source": [
    "We see the same pattern for the video players category, which is the runner-up with 24,727,872 installs. The market is dominated by apps like Youtube, Google Play Movies & TV, or MX Player. The pattern is repeated for social apps (where we have giants like Facebook, Instagram, Google+, etc.), photography apps (Google Photos and other popular photo editors), or productivity apps (Microsoft Word, Dropbox, Google Calendar, Evernote, etc.).\n",
    "\n",
    "Again, the main concern is that these app genres might seem more popular than they really are. Moreover, these niches seem to be dominated by a few giants who are hard to compete against.\n",
    "\n",
    "The game genre seems pretty popular, but previously we found out this part of the market seems a bit saturated, so we'd like to come up with a different app recommendation if possible.\n",
    "\n",
    "The `PRODUCTIVITY` genre again looks fairly popular as well, with an average number of installs of 16,787,331. It's interesting to explore this in more depth, since we found this genre has some potential to work well on the App Store, and our aim is to recommend an app genre that shows potential for being profitable on both the App Store and Google Play.\n",
    "\n",
    "Let's take a look at some of the apps from this genre and their number of installs:"
   ]
  },
  {
   "cell_type": "code",
   "execution_count": 33,
   "metadata": {
    "collapsed": false
   },
   "outputs": [
    {
     "name": "stdout",
     "output_type": "stream",
     "text": [
      "Microsoft Word : 500,000,000+\n",
      "All-In-One Toolbox: Cleaner, Booster, App Manager : 10,000,000+\n",
      "AVG Cleaner – Speed, Battery & Memory Booster : 10,000,000+\n",
      "QR Scanner & Barcode Scanner 2018 : 10,000,000+\n",
      "Chrome Beta : 10,000,000+\n",
      "Microsoft Outlook : 100,000,000+\n",
      "Google PDF Viewer : 10,000,000+\n",
      "My Claro Peru : 5,000,000+\n",
      "Power Booster - Junk Cleaner & CPU Cooler & Boost : 1,000,000+\n",
      "Google Assistant : 10,000,000+\n",
      "Microsoft OneDrive : 100,000,000+\n",
      "Calculator - unit converter : 50,000,000+\n",
      "Microsoft OneNote : 100,000,000+\n",
      "Metro name iD : 10,000,000+\n",
      "Google Keep : 100,000,000+\n",
      "Archos File Manager : 5,000,000+\n",
      "ES File Explorer File Manager : 100,000,000+\n",
      "ASUS SuperNote : 10,000,000+\n",
      "HTC File Manager : 10,000,000+\n",
      "MyMTN : 1,000,000+\n",
      "Dropbox : 500,000,000+\n",
      "ASUS Quick Memo : 10,000,000+\n",
      "HTC Calendar : 10,000,000+\n",
      "Google Docs : 100,000,000+\n",
      "ASUS Calling Screen : 10,000,000+\n",
      "lifebox : 5,000,000+\n",
      "Yandex.Disk : 5,000,000+\n",
      "Content Transfer : 5,000,000+\n",
      "HTC Mail : 10,000,000+\n",
      "Advanced Task Killer : 50,000,000+\n",
      "MyVodafone (India) - Online Recharge & Pay Bills : 10,000,000+\n",
      "Microsoft PowerPoint : 100,000,000+\n",
      "Microsoft Translator : 5,000,000+\n",
      "My Airtel-Online Recharge, Pay Bill, Wallet, UPI : 50,000,000+\n",
      "Samsung Notes : 100,000,000+\n",
      "Do It Later: Tasks & To-Dos : 50,000,000+\n",
      "Verizon Cloud : 50,000,000+\n",
      "myAT&T : 50,000,000+\n",
      "SwiftKey Keyboard : 100,000,000+\n",
      "Hacker's Keyboard : 1,000,000+\n",
      "MEGA : 50,000,000+\n",
      "Security & Privacy : 1,000,000+\n",
      "7 Weeks - Habit & Goal Tracker : 500,000+\n",
      "Loop - Habit Tracker : 1,000,000+\n",
      "TickTick: To Do List with Reminder, Day Planner : 1,000,000+\n",
      "Keeper: Free Password Manager & Secure Vault : 10,000,000+\n",
      "Pushbullet - SMS on PC : 1,000,000+\n",
      "Wunderlist: To-Do List & Tasks : 10,000,000+\n",
      "Planner Pro-Personal Organizer : 1,000,000+\n",
      "Todoist: To-do lists for task management & errands : 10,000,000+\n",
      "Cozi Family Organizer : 1,000,000+\n",
      "IFTTT : 1,000,000+\n",
      "Trello : 5,000,000+\n",
      "Easy Voice Recorder : 10,000,000+\n",
      "Dashlane Free Password Manager : 1,000,000+\n",
      "CM FILE MANAGER HD : 10,000,000+\n",
      "Solid Explorer Classic : 1,000,000+\n",
      "File Browser by Astro (File Manager) : 50,000,000+\n",
      "File Explorer : 100,000+\n",
      "The Maner : 5,000,000+\n",
      "AndroZip™ FREE File Manager : 10,000,000+\n",
      "Solid Explorer File Manager : 1,000,000+\n",
      "Smart File Manager : 1,000,000+\n",
      "Google Drive : 1,000,000,000+\n",
      "Adobe Acrobat Reader : 100,000,000+\n",
      "Google Sheets : 100,000,000+\n",
      "Microsoft Excel : 100,000,000+\n",
      "Polaris Office - Word, Docs, Sheets, Slide, PDF : 10,000,000+\n",
      "WPS Office - Word, Docs, PDF, Note, Slide & Sheet : 100,000,000+\n",
      "Google Slides : 100,000,000+\n",
      "ColorNote Notepad Notes : 100,000,000+\n",
      "Note Everything : 5,000,000+\n",
      "Simple Notepad : 1,000,000+\n",
      "Keep My Notes - Notepad & Memo : 5,000,000+\n",
      "Sticky Note + : Sync Notes : 1,000,000+\n",
      "Notepad : 10,000,000+\n",
      "Squid - Take Notes & Markup PDFs : 1,000,000+\n",
      "Ultimate Notepad : 5,000,000+\n",
      "Notepad & To do list : 10,000,000+\n",
      "JotterPad - Writer, Screenplay, Novel : 1,000,000+\n",
      "Evernote – Organizer, Planner for Notes & Memos : 100,000,000+\n",
      "Any.do: To-do list, Calendar, Reminders & Planner : 10,000,000+\n",
      "Planning Center Services : 500,000+\n",
      "Calendar+ Schedule Planner App : 1,000,000+\n",
      "Today Calendar 2017 : 1,000,000+\n",
      "To-Do Calendar Planner : 1,000,000+\n",
      "New Calendar : 1,000,000+\n",
      "Calendar Widget Month + Agenda : 5,000,000+\n",
      "DigiCal Calendar Agenda : 5,000,000+\n",
      "Time Recording - Timesheet App : 1,000,000+\n",
      "Jorte Calendar & Organizer : 10,000,000+\n",
      "Business Calendar 2 : 5,000,000+\n",
      "Google Calendar : 500,000,000+\n",
      "aCalendar - Android Phone : 10,000,000+\n",
      "G Cloud Backup : 5,000,000+\n",
      "Unclouded - Cloud Manager : 100,000+\n",
      "Amazon Drive : 1,000,000+\n",
      "SugarSync : 1,000,000+\n",
      "pCloud: Free Cloud Storage : 1,000,000+\n",
      "MediaFire : 5,000,000+\n",
      "Cloud Print : 500,000,000+\n",
      "Fake Call - Fake Caller ID : 10,000,000+\n",
      "AutoCAD - DWG Viewer & Editor : 10,000,000+\n",
      "Alt-C : 10,000+\n",
      "My C Spire : 50,000+\n",
      "Mobile Security & Antivirus : 10,000,000+\n",
      "EX File Explorer File Manager : 1,000,000+\n",
      "EBookDroid - PDF & DJVU Reader : 5,000,000+\n",
      "Inputting Plus: Ctrl + Z/F/C/V : 50,000+\n",
      "CTRL-F - Search the real world : 50,000+\n",
      "Larry H Miller Automotive : 10,000+\n",
      "Add-On: Alcatel (h) : 50,000+\n",
      "J. Polep Plus Mobile : 100+\n",
      "K-App Mitarbeiter Galeria Kaufhof : 100+\n",
      "Calculator L : 100,000+\n",
      "Emoji Android L Keyboard : 1,000,000+\n",
      "Mobizen Screen Recorder - Record, Capture, Edit : 50,000,000+\n",
      "Tap N Pay : 10,000+\n",
      "N Files - File Manager & Explorer : 10,000+\n",
      "WiFi-o-Matic : 50,000+\n",
      "Multiling O Keyboard + emoji : 1,000,000+\n",
      "Official QR Code® Reader \"Q\" : 500,000+\n",
      "Q Actions - Digital Assistant : 500+\n",
      "Q Link Wireless Zone : 500,000+\n",
      "R-net for Android : 5,000+\n",
      "Mat|r viewer : 100+\n",
      "S Note : 10,000,000+\n",
      "S’more - Earn Cash Rewards : 1,000,000+\n",
      "SH Script Runner : 50,000+\n",
      "AT&T Mobile Transfer : 10,000,000+\n",
      "T-Mobile Content Transfer : 500,000+\n",
      "Můj T-Mobile Business : 1,000,000+\n",
      "U Assist - Screen Mirroring & Sharing App : 50,000+\n",
      "U+Box : 10,000,000+\n",
      "NQ Mobile Security & Antivirus : 10,000,000+\n",
      "Air Conditioner Maintenance : 5,000+\n",
      "Remote Control For All AC - Universal Remote : 10,000+\n",
      "Ad Detect Plugin - Handy Tool : 500,000+\n",
      "Safe Notes - Secure Ad-free notepad : 50,000+\n",
      "Adblock Fast : 1,000,000+\n",
      "Google AdSense : 1,000,000+\n",
      "Best Applock - Locker & No Ads : 100,000+\n",
      "TIMBER AD FILTER - Very useful ad block app : 100,000+\n",
      "ESS Mobile for AE : 5,000+\n",
      "Trimble Ag Mobile : 10,000+\n",
      "Ag PhD Soils : 1,000+\n",
      "Ag Trucking Mobile App : 100+\n",
      "Ag Guardian : 100+\n",
      "My Ag Report : 50+\n",
      "Mix Tank – Tank Mixing Ag App : 10,000+\n",
      "Extreme- Personal Voice Assistant : 1,000,000+\n",
      "Puck AI Personal Assistant Robot : 1,000+\n",
      "Builder (by Engineer.ai) : 100+\n",
      "Friday: Smart Personal Assistant : 100,000+\n",
      "Lyra Virtual Assistant : 1,000,000+\n",
      "ai.Bot Box : 10,000+\n",
      "MiAI (Artificial Intelligence) Assistant : 100+\n",
      "Turbo AI™ - Personal assistant : 5,000+\n",
      "AI Sight : 1,000+\n",
      "AL Voice Recorder : 1,000,000+\n",
      "AP ENPS Mobile : 5,000+\n",
      "AQ Guards : 10+\n",
      "QR Droid : 50,000,000+\n",
      "Mind Map AR, Augmented Reality ARCore Mind Mapping : 5,000+\n",
      "PDF Viewer & Book Reader : 5,000,000+\n",
      "Alarm Clock: Stopwatch & Timer : 50,000,000+\n",
      "Total AV : 100,000+\n",
      "Mobile Security: Antivirus, Web Scan & App Lock : 10,000,000+\n",
      "Professional AV Solution & Products information : 1,000+\n",
      "Bits Watch Face : 100,000+\n",
      "Tips Microsoft Dynamics Ax : 500+\n",
      "Tips & Tricks Dynamics AX 365 : 100+\n",
      "A-Z App Store : 500,000+\n",
      "BA Calculator : 5,000+\n",
      "Town of Princeton, BC : 100+\n",
      "Electricity Bill Calculator BD : 10,000+\n",
      "BD Attendance : 1,000+\n",
      "BD Field Force : 1,000+\n",
      "BG+Phone Backup : 1,000+\n",
      "ALL-IN-ONE PACKAGE TRACKING : 1,000,000+\n",
      "MinT BI : 10+\n",
      "BJ Memo Widget : 50,000+\n",
      "SKIN BK : 10+\n",
      "BM Interventi : 10+\n",
      "BAMMS for BM 1Park : 50+\n",
      "BAMMS for BM SQ : 10+\n",
      "BN Inscript Improved Input keyboard : 10+\n",
      "Calendars (En, Bn, Ar) : 1,000+\n",
      "BN DB1 App : 50+\n",
      "BN Inscript Improved Keyboard : 10+\n",
      "Add-On: bq (a) : 5,000+\n",
      "Add-On: bq (c) : 1,000+\n",
      "Add-On: bq (b) : 1,000+\n",
      "BV Mobile Apps : 100+\n",
      "BW Ultra : 10+\n",
      "BW-IVMS : 100+\n",
      "IP address BW : 500+\n",
      "BW t&t : 10+\n",
      "BZ Dealer : 500+\n",
      "CA World '17 : 1,000+\n",
      "Register.ca Mobile : 100+\n",
      "CD Library : 10,000+\n",
      "APagri CD : 10+\n",
      "CE SODEXO PASS FRANCE : 50+\n",
      "ACCEPT CE MARKING : 10+\n",
      "CG - Calendars Add-On : 5,000+\n",
      "CG - Conference Call Add-On : 1,000+\n",
      "Somos CG : 100+\n",
      "My CG : 10+\n",
      "Chrome Canary (Unstable) : 1,000,000+\n",
      "CI Remote for Go : 100+\n",
      "IQ Test : 100,000+\n",
      "Thistletown CI : 100+\n",
      "CI Time : 100+\n",
      "CircleCI Viewer : 1,000+\n",
      "CI CAFETERIAS UBER : 100+\n",
      "CJ'S TIRE AND AUTO INC. : 100+\n",
      "Commission Manager : 1,000+\n",
      "CJ Wilson's ZoomZoomnation : 500+\n",
      "Inch/cm/Foot Conversion : 100,000+\n",
      "cm, mm to inch, feet converter tool : 100,000+\n",
      "Krypton by krypt.co : 1,000+\n",
      "Fayr - Co-Parenting Simplified : 1,000+\n",
      "CP Connect 2.0 : 500+\n",
      "CQ Ukraine : 10+\n",
      "CQ Electrical Group : 1+\n",
      "iReadMe : 100+\n",
      "Ultimate Calculator for CR : 500,000+\n",
      "Ultimate Chest Tracker : 1,000,000+\n",
      "CamScanner - Phone PDF Creator : 100,000,000+\n",
      "Bomb and Nade Timer for CS:GO : 5,000+\n",
      "Solar CT PV System Power : 10,000+\n",
      "CT CONNECT : 50+\n",
      "My CU - Caucasus University : 1,000+\n",
      "Resume & CV Creator by Desygner : 5,000+\n",
      "Resume Builder and CV maker app : 100,000+\n",
      "Resume Free : 1,000,000+\n",
      "Curriculum Vitae - Resume CV : 10,000+\n",
      "Pocket RxTx Free : 100,000+\n",
      "Cx Wize : 100+\n",
      "CONNECT: The Mobile CX Summit : 50+\n",
      "CX Summit : 50+\n",
      "CY Security Antivirus Cleaner : 1,000,000+\n",
      "Phone Clean Best Speed Booster : 1,000,000+\n",
      "LOCX Applock Lock Apps & Photo : 10,000,000+\n",
      "RoutePlan.cz : 100+\n",
      "DB Manager : 1,000+\n",
      "DF-Server Mobile : 100+\n",
      "DG Report Reminder : 10,000+\n",
      "DG Phone Call Task Switcher : 1,000+\n",
      "DG Users : 100+\n",
      "e-Boks.dk : 1,000,000+\n",
      "Download Manager Pro FREE : 100,000+\n",
      "Trimble DL : 10,000+\n",
      "IDM Internet Download Manager : 100,000+\n",
      "Shaggy's DM Assistant : 5+\n",
      "DN Events : 500+\n",
      "WFVS 2018 | WhatApp Full Video Status & Downloader : 50,000+\n",
      "Mahalaxmi Dindarshika 2018 : 1,000,000+\n",
      "Microsoft To-Do: List, Task & Reminder : 1,000,000+\n",
      "To Do List : 5,000,000+\n",
      "To Do Reminder with Alarm : 1,000,000+\n",
      "Ike - To-Do List, Task List : 100,000+\n",
      "My Effectiveness: To do, Tasks : 500,000+\n",
      "Do it (Tomorrow) : 1,000,000+\n",
      "Do Not Disturb : 100,000+\n",
      "To-Do List Widget : 1,000,000+\n",
      "NoteToDo. Notes. To do list : 1,000,000+\n",
      "Memory Helper - To do list, Notepad, Notes, Memo : 500,000+\n",
      "2Do - Reminders, To-do List & Notes : 100,000+\n",
      "Time Planner - Schedule, To-Do List, Time Tracker : 500,000+\n",
      "MyLifeOrganized: To-Do List : 100,000+\n",
      "Cal - Google Calendar + Widget : 1,000,000+\n",
      "Clean My House – Chore To Do List, Task Scheduler : 100,000+\n",
      "Goal Meter: Goal Tracker, Habit Changer,To-Do List : 100,000+\n",
      "To-do list : 50,000+\n",
      "Adobe Fill & Sign: Easy PDF Form Filler : 1,000,000+\n",
      "Dr.Android Repair Master 2017 : 100,000+\n",
      "DS file : 1,000,000+\n",
      "DS note : 100,000+\n",
      "DS cam : 500,000+\n",
      "Synology Drive : 100,000+\n",
      "DS-20000S : 1,000+\n",
      "DT Manager : 500+\n",
      "DT Freight : 1+\n",
      "Clean My Android : 5,000,000+\n",
      "APUS Booster - Space Cleaner & Booster : 10,000,000+\n",
      "DV Web Design Tips : 10+\n",
      "Dz Dinars Numbers to letters : 100,000+\n",
      "Numbers Into Words : 50,000+\n",
      "DZ Register : 1+\n",
      "Epson iProjection : 1,000,000+\n",
      "EB Scanner : 50+\n",
      "Exército Brasileiro : 100,000+\n",
      "ec-Work : 100+\n",
      "New Holland Agriculture T5 EC : 1,000+\n",
      "EC Taximeter : 10,000+\n",
      "EC QR : 10+\n",
      "EC Sampler : 1+\n",
      "SCS eC : 100+\n",
      "EF Staff : 100+\n",
      "EF Calculator : 1,000+\n",
      "eG Monitor : 100+\n",
      "EG : 100+\n",
      "EI! : 10+\n",
      "Sai Baba - Sabka Malik Ek : 1,000+\n",
      "Ek Vote : 500+\n",
      "Ginger Keyboard - Emoji, GIFs, Themes & Games : 5,000,000+\n",
      "EP Home Energy Hub : 100+\n",
      "EP Cloud : 10+\n",
      "ER Assist : 10+\n",
      "ES Disk Analyzer - Storage Space : 100,000+\n",
      "ES Material Theme for Pro : 1,000,000+\n",
      "ES Holo Theme for Pro : 500,000+\n",
      "ES Billing System (Offline App) : 100+\n",
      "ESLock File Recovery Lite : 50,000+\n",
      "iTranslate Translator & Dictionary : 10,000,000+\n",
      "EU Economy : 5,000+\n",
      "Eurostat Country Profiles : 10,000+\n",
      "EU Brazil Green Business Forum : 10+\n",
      "Simple EV Calc : 1,000+\n",
      "EY Team Connect : 50+\n",
      "EY ATL Fuel Calculator : 500+\n",
      "EY Events Switzerland : 500+\n",
      "EZ Inspections : 10,000+\n",
      "EZ Display : 50,000+\n",
      "EZ File Manager(Root Explorer) : 100,000+\n",
      "EZ Notes Lite : 1,000+\n",
      "EZ Switch Widget : 100,000+\n",
      "MultiMessage for FB Messenger : 50,000+\n",
      "IDM for Facebook ★ Downloader : 100,000+\n",
      "Chelsea FC Official Keyboard : 1,000,000+\n",
      "Avast Wi-Fi Finder : 1,000,000+\n",
      "Safe Wi-Fi : 1,000+\n",
      "Wi-Fi Networks : 10,000+\n",
      "Fast Notes FJ : 500+\n",
      "FK Events : 5+\n",
      "Charlotte County, FL : 1,000+\n",
      "FL House : 1,000+\n",
      "Florida Cooling Supply HVAC : 500+\n",
      "Fort Myers FL : 100+\n",
      "MY GULFPORT FL : 50+\n",
      "Future Cloud : 100,000+\n",
      "FQ METER : 1,000+\n",
      "PLMGSS FR : 10+\n"
     ]
    }
   ],
   "source": [
    "for app in android_final:\n",
    "    if app[1] == 'PRODUCTIVITY':\n",
    "        print(app[0],':',app[5])"
   ]
  },
  {
   "cell_type": "markdown",
   "metadata": {},
   "source": [
    "The PRODUCTIVITY genre includes a variety of apps: utility like files storage, task manager, reminder, calculator. etc. There is also an amount of more popular  skew up the average installer:"
   ]
  },
  {
   "cell_type": "code",
   "execution_count": 35,
   "metadata": {
    "collapsed": false
   },
   "outputs": [
    {
     "name": "stdout",
     "output_type": "stream",
     "text": [
      "Microsoft Word : 500,000,000+\n",
      "Microsoft Outlook : 100,000,000+\n",
      "Microsoft OneDrive : 100,000,000+\n",
      "Microsoft OneNote : 100,000,000+\n",
      "Google Keep : 100,000,000+\n",
      "ES File Explorer File Manager : 100,000,000+\n",
      "Dropbox : 500,000,000+\n",
      "Google Docs : 100,000,000+\n",
      "Microsoft PowerPoint : 100,000,000+\n",
      "Samsung Notes : 100,000,000+\n",
      "SwiftKey Keyboard : 100,000,000+\n",
      "Google Drive : 1,000,000,000+\n",
      "Adobe Acrobat Reader : 100,000,000+\n",
      "Google Sheets : 100,000,000+\n",
      "Microsoft Excel : 100,000,000+\n",
      "WPS Office - Word, Docs, PDF, Note, Slide & Sheet : 100,000,000+\n",
      "Google Slides : 100,000,000+\n",
      "ColorNote Notepad Notes : 100,000,000+\n",
      "Evernote – Organizer, Planner for Notes & Memos : 100,000,000+\n",
      "Google Calendar : 500,000,000+\n",
      "Cloud Print : 500,000,000+\n",
      "CamScanner - Phone PDF Creator : 100,000,000+\n"
     ]
    }
   ],
   "source": [
    "for app in android_final:\n",
    "    if app[1] == 'PRODUCTIVITY' and (app[5] == '1,000,000,000+' \n",
    "                                      or app[5] == '500,000,000+' \n",
    "                                      or app[5] == '100,000,000+'):\n",
    "        print(app[0],':',app[5])"
   ]
  },
  {
   "cell_type": "markdown",
   "metadata": {},
   "source": [
    "However it seem not to overly - focus on a particular apps, it spread widely between apps, let dig a little more on apps between 1,000,000 and 100,000,000 installers:"
   ]
  },
  {
   "cell_type": "code",
   "execution_count": 36,
   "metadata": {
    "collapsed": false
   },
   "outputs": [
    {
     "name": "stdout",
     "output_type": "stream",
     "text": [
      "All-In-One Toolbox: Cleaner, Booster, App Manager : 10,000,000+\n",
      "AVG Cleaner – Speed, Battery & Memory Booster : 10,000,000+\n",
      "QR Scanner & Barcode Scanner 2018 : 10,000,000+\n",
      "Chrome Beta : 10,000,000+\n",
      "Google PDF Viewer : 10,000,000+\n",
      "My Claro Peru : 5,000,000+\n",
      "Power Booster - Junk Cleaner & CPU Cooler & Boost : 1,000,000+\n",
      "Google Assistant : 10,000,000+\n",
      "Calculator - unit converter : 50,000,000+\n",
      "Metro name iD : 10,000,000+\n",
      "Archos File Manager : 5,000,000+\n",
      "ASUS SuperNote : 10,000,000+\n",
      "HTC File Manager : 10,000,000+\n",
      "MyMTN : 1,000,000+\n",
      "ASUS Quick Memo : 10,000,000+\n",
      "HTC Calendar : 10,000,000+\n",
      "ASUS Calling Screen : 10,000,000+\n",
      "lifebox : 5,000,000+\n",
      "Yandex.Disk : 5,000,000+\n",
      "Content Transfer : 5,000,000+\n",
      "HTC Mail : 10,000,000+\n",
      "Advanced Task Killer : 50,000,000+\n",
      "MyVodafone (India) - Online Recharge & Pay Bills : 10,000,000+\n",
      "Microsoft Translator : 5,000,000+\n",
      "My Airtel-Online Recharge, Pay Bill, Wallet, UPI : 50,000,000+\n",
      "Do It Later: Tasks & To-Dos : 50,000,000+\n",
      "Verizon Cloud : 50,000,000+\n",
      "myAT&T : 50,000,000+\n",
      "Hacker's Keyboard : 1,000,000+\n",
      "MEGA : 50,000,000+\n",
      "Security & Privacy : 1,000,000+\n",
      "Loop - Habit Tracker : 1,000,000+\n",
      "TickTick: To Do List with Reminder, Day Planner : 1,000,000+\n",
      "Keeper: Free Password Manager & Secure Vault : 10,000,000+\n",
      "Pushbullet - SMS on PC : 1,000,000+\n",
      "Wunderlist: To-Do List & Tasks : 10,000,000+\n",
      "Planner Pro-Personal Organizer : 1,000,000+\n",
      "Todoist: To-do lists for task management & errands : 10,000,000+\n",
      "Cozi Family Organizer : 1,000,000+\n",
      "IFTTT : 1,000,000+\n",
      "Trello : 5,000,000+\n",
      "Easy Voice Recorder : 10,000,000+\n",
      "Dashlane Free Password Manager : 1,000,000+\n",
      "CM FILE MANAGER HD : 10,000,000+\n",
      "Solid Explorer Classic : 1,000,000+\n",
      "File Browser by Astro (File Manager) : 50,000,000+\n",
      "The Maner : 5,000,000+\n",
      "AndroZip™ FREE File Manager : 10,000,000+\n",
      "Solid Explorer File Manager : 1,000,000+\n",
      "Smart File Manager : 1,000,000+\n",
      "Polaris Office - Word, Docs, Sheets, Slide, PDF : 10,000,000+\n",
      "Note Everything : 5,000,000+\n",
      "Simple Notepad : 1,000,000+\n",
      "Keep My Notes - Notepad & Memo : 5,000,000+\n",
      "Sticky Note + : Sync Notes : 1,000,000+\n",
      "Notepad : 10,000,000+\n",
      "Squid - Take Notes & Markup PDFs : 1,000,000+\n",
      "Ultimate Notepad : 5,000,000+\n",
      "Notepad & To do list : 10,000,000+\n",
      "JotterPad - Writer, Screenplay, Novel : 1,000,000+\n",
      "Any.do: To-do list, Calendar, Reminders & Planner : 10,000,000+\n",
      "Calendar+ Schedule Planner App : 1,000,000+\n",
      "Today Calendar 2017 : 1,000,000+\n",
      "To-Do Calendar Planner : 1,000,000+\n",
      "New Calendar : 1,000,000+\n",
      "Calendar Widget Month + Agenda : 5,000,000+\n",
      "DigiCal Calendar Agenda : 5,000,000+\n",
      "Time Recording - Timesheet App : 1,000,000+\n",
      "Jorte Calendar & Organizer : 10,000,000+\n",
      "Business Calendar 2 : 5,000,000+\n",
      "aCalendar - Android Phone : 10,000,000+\n",
      "G Cloud Backup : 5,000,000+\n",
      "Amazon Drive : 1,000,000+\n",
      "SugarSync : 1,000,000+\n",
      "pCloud: Free Cloud Storage : 1,000,000+\n",
      "MediaFire : 5,000,000+\n",
      "Fake Call - Fake Caller ID : 10,000,000+\n",
      "AutoCAD - DWG Viewer & Editor : 10,000,000+\n",
      "Mobile Security & Antivirus : 10,000,000+\n",
      "EX File Explorer File Manager : 1,000,000+\n",
      "EBookDroid - PDF & DJVU Reader : 5,000,000+\n",
      "Emoji Android L Keyboard : 1,000,000+\n",
      "Mobizen Screen Recorder - Record, Capture, Edit : 50,000,000+\n",
      "Multiling O Keyboard + emoji : 1,000,000+\n",
      "S Note : 10,000,000+\n",
      "S’more - Earn Cash Rewards : 1,000,000+\n",
      "AT&T Mobile Transfer : 10,000,000+\n",
      "Můj T-Mobile Business : 1,000,000+\n",
      "U+Box : 10,000,000+\n",
      "NQ Mobile Security & Antivirus : 10,000,000+\n",
      "Adblock Fast : 1,000,000+\n",
      "Google AdSense : 1,000,000+\n",
      "Extreme- Personal Voice Assistant : 1,000,000+\n",
      "Lyra Virtual Assistant : 1,000,000+\n",
      "AL Voice Recorder : 1,000,000+\n",
      "QR Droid : 50,000,000+\n",
      "PDF Viewer & Book Reader : 5,000,000+\n",
      "Alarm Clock: Stopwatch & Timer : 50,000,000+\n",
      "Mobile Security: Antivirus, Web Scan & App Lock : 10,000,000+\n",
      "ALL-IN-ONE PACKAGE TRACKING : 1,000,000+\n",
      "Chrome Canary (Unstable) : 1,000,000+\n",
      "Ultimate Chest Tracker : 1,000,000+\n",
      "Resume Free : 1,000,000+\n",
      "CY Security Antivirus Cleaner : 1,000,000+\n",
      "Phone Clean Best Speed Booster : 1,000,000+\n",
      "LOCX Applock Lock Apps & Photo : 10,000,000+\n",
      "e-Boks.dk : 1,000,000+\n",
      "Mahalaxmi Dindarshika 2018 : 1,000,000+\n",
      "Microsoft To-Do: List, Task & Reminder : 1,000,000+\n",
      "To Do List : 5,000,000+\n",
      "To Do Reminder with Alarm : 1,000,000+\n",
      "Do it (Tomorrow) : 1,000,000+\n",
      "To-Do List Widget : 1,000,000+\n",
      "NoteToDo. Notes. To do list : 1,000,000+\n",
      "Cal - Google Calendar + Widget : 1,000,000+\n",
      "Adobe Fill & Sign: Easy PDF Form Filler : 1,000,000+\n",
      "DS file : 1,000,000+\n",
      "Clean My Android : 5,000,000+\n",
      "APUS Booster - Space Cleaner & Booster : 10,000,000+\n",
      "Epson iProjection : 1,000,000+\n",
      "Ginger Keyboard - Emoji, GIFs, Themes & Games : 5,000,000+\n",
      "ES Material Theme for Pro : 1,000,000+\n",
      "iTranslate Translator & Dictionary : 10,000,000+\n",
      "Chelsea FC Official Keyboard : 1,000,000+\n",
      "Avast Wi-Fi Finder : 1,000,000+\n"
     ]
    }
   ],
   "source": [
    "for app in android_final:\n",
    "    if app[1] == 'PRODUCTIVITY' and (app[5] == '1,000,000+'\n",
    "                                        or app[5] == '5,000,000+'\n",
    "                                        or app[5] == '10,000,000+'\n",
    "                                        or app[5] == '50,000,000+'):\n",
    "        print(app[0], ':', app[5])"
   ]
  },
  {
   "cell_type": "markdown",
   "metadata": {},
   "source": [
    "This niche seems haven't yet been dominated by any particular kind of apps.\n",
    "However the number of softwares for notes, reminder, calender may be overwhelming. We will need to avoid this subject if we don't have any really out standing concept.\n",
    "\n",
    "# Conclusions\n",
    "\n",
    "In this project, we analyzed data about the App Store and Google Play mobile apps with the goal of recommending an app profile that can be profitable for both markets.\n",
    "\n",
    "We concluded that making a productivily apps will be more potentail. We could think about kinds of life-hack, financial managerment, or any kind of utility apps that help user to handle their lift better. We also can add the fun elements into the app for more appealing to user."
   ]
  }
 ],
 "metadata": {
  "kernelspec": {
   "display_name": "Python 3",
   "language": "python",
   "name": "python3"
  },
  "language_info": {
   "codemirror_mode": {
    "name": "ipython",
    "version": 3
   },
   "file_extension": ".py",
   "mimetype": "text/x-python",
   "name": "python",
   "nbconvert_exporter": "python",
   "pygments_lexer": "ipython3",
   "version": "3.4.3"
  }
 },
 "nbformat": 4,
 "nbformat_minor": 2
}
